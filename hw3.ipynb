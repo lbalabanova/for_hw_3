{
 "cells": [
  {
   "cell_type": "markdown",
   "metadata": {},
   "source": [
    "Домашнее задание к лекции \"Введение в типы данных и циклы. Часть 2\""
   ]
  },
  {
   "cell_type": "markdown",
   "metadata": {},
   "source": [
    "Задание 1\n",
    "Дана переменная, в которой хранится словарь, содержащий гео-метки для каждого пользователя (пример структуры данных приведен ниже). Вам необходимо написать программу, которая выведет на экран множество уникальных гео-меток всех пользователей."
   ]
  },
  {
   "cell_type": "code",
   "execution_count": 6,
   "metadata": {},
   "outputs": [
    {
     "name": "stdout",
     "output_type": "stream",
     "text": [
      "{98, 35, 15, 213, 54, 119}\n"
     ]
    }
   ],
   "source": [
    "#Вариант 1 с вложенным циклом\n",
    "\n",
    "ids = {'user1': [213, 213, 213, 15, 213], \n",
    "       'user2': [54, 54, 119, 119, 119], \n",
    "       'user3': [213, 98, 98, 35]}\n",
    "\n",
    "geo_tegs = set([])\n",
    "for tegs in ids.values():\n",
    "    for teg in tegs:\n",
    "        geo_tegs.add(teg)\n",
    "print(geo_tegs)"
   ]
  },
  {
   "cell_type": "code",
   "execution_count": 7,
   "metadata": {},
   "outputs": [
    {
     "name": "stdout",
     "output_type": "stream",
     "text": [
      "{98, 35, 15, 213, 54, 119}\n"
     ]
    }
   ],
   "source": [
    "#Вариант 1 со сложением списков\n",
    "ids = {'user1': [213, 213, 213, 15, 213], \n",
    "       'user2': [54, 54, 119, 119, 119], \n",
    "       'user3': [213, 98, 98, 35]}\n",
    "\n",
    "teg_list = []\n",
    "for tegs in ids.values():\n",
    "    teg_list += tegs\n",
    "\n",
    "print(set(teg_list))"
   ]
  },
  {
   "cell_type": "markdown",
   "metadata": {},
   "source": [
    "Задание 2\n",
    "Дана переменная, в которой хранится список поисковых запросов пользователя (пример структуры данных приведен ниже). Вам необходимо написать программу, которая выведет на экран распределение количества слов в запросах в требуемом виде."
   ]
  },
  {
   "cell_type": "code",
   "execution_count": 70,
   "metadata": {},
   "outputs": [
    {
     "name": "stdout",
     "output_type": "stream",
     "text": [
      "Поисковых запросов, содержащих 2 слов(а): 42.86%\n",
      "Поисковых запросов, содержащих 3 слов(а): 57.14%\n"
     ]
    }
   ],
   "source": [
    "queries = [\n",
    "    'смотреть сериалы онлайн',\n",
    "    'новости спорта',\n",
    "    'афиша кино',\n",
    "    'курс доллара',\n",
    "    'сериалы этим летом',\n",
    "    'курс по питону',\n",
    "    'сериалы про спорт',\n",
    "]\n",
    "\n",
    "total_queries = 0\n",
    "words2 = 0\n",
    "words3 = 0\n",
    "\n",
    "for element in queries:\n",
    "    total_queries += 1\n",
    "    if len((element.split(' '))) == 2: words2 +=1\n",
    "    if len((element.split(' '))) == 3: words3 +=1\n",
    "\n",
    "print(f'Поисковых запросов, содержащих 2 слов(а): {round(words2/total_queries*100,2)}%')\n",
    "print(f'Поисковых запросов, содержащих 3 слов(а): {round(words3/total_queries*100,2)}%')"
   ]
  },
  {
   "cell_type": "markdown",
   "metadata": {},
   "source": [
    "Задание 3\n",
    "Дана переменная, в которой хранится информация о затратах и доходе рекламных кампаний по различным источникам. Необходимо дополнить исходную структуру показателем ROI, который рассчитаем по формуле: (revenue / cost - 1) * 100"
   ]
  },
  {
   "cell_type": "code",
   "execution_count": 71,
   "metadata": {},
   "outputs": [
    {
     "name": "stdout",
     "output_type": "stream",
     "text": [
      "{'vk': {'revenue': 103, 'cost': 98, 'ROI': 5.1}, 'yandex': {'revenue': 179, 'cost': 153, 'ROI': 16.99}, 'facebook': {'revenue': 103, 'cost': 110, 'ROI': -6.36}, 'adwords': {'revenue': 35, 'cost': 34, 'ROI': 2.94}, 'twitter': {'revenue': 11, 'cost': 24, 'ROI': -54.17}}\n"
     ]
    }
   ],
   "source": [
    "results = {\n",
    "    'vk': {'revenue': 103, 'cost': 98},\n",
    "    'yandex': {'revenue': 179, 'cost': 153},\n",
    "    'facebook': {'revenue': 103, 'cost': 110},\n",
    "    'adwords': {'revenue': 35, 'cost': 34},\n",
    "    'twitter': {'revenue': 11, 'cost': 24},\n",
    "}\n",
    "\n",
    "for sourse, info in results.items():\n",
    "    info['ROI'] = round((info['revenue'] / info['cost'] - 1) * 100, 2) #не поняла, как ее вставить до Revenue\n",
    "    \n",
    "print(results)"
   ]
  },
  {
   "cell_type": "markdown",
   "metadata": {},
   "source": [
    "Задание 4\n",
    "Дана переменная, в которой хранится статистика рекламных каналов по объемам продаж (пример структуры данных приведен ниже). Напишите программу, которая возвращает название канала с максимальным объемом продаж."
   ]
  },
  {
   "cell_type": "code",
   "execution_count": 72,
   "metadata": {},
   "outputs": [
    {
     "name": "stdout",
     "output_type": "stream",
     "text": [
      "Максимальный объем продаж на рекламном канале: vk\n"
     ]
    }
   ],
   "source": [
    "stats = {'facebook': 55, 'yandex': 115, 'vk': 120, 'google': 99, 'email': 42, 'ok': 98}\n",
    "\n",
    "max_volume = 0\n",
    "for chan, volume in stats.items():\n",
    "    if volume > max_volume:\n",
    "        max_volume = volume\n",
    "        max_chan = chan\n",
    "\n",
    "print(f'Максимальный объем продаж на рекламном канале: {max_chan}')\n",
    "    "
   ]
  },
  {
   "cell_type": "markdown",
   "metadata": {},
   "source": [
    "Задание 5 (необязательно)\n",
    "Дан список произвольной длины. Необходимо написать код, который на основе исходного списка составит словарь такого уровня вложенности, какова длина исходного списка.\n",
    "\n",
    "Примеры работы программы:\n",
    "\n",
    "my_list = ['2018-01-01', 'yandex', 'cpc', 100]\n",
    "Результат: {'2018-01-01': {'yandex': {'cpc': 100}}}\n",
    "\n",
    "my_list = ['a', 'b', 'c', 'd', 'e', 'f']\n",
    "Результат: {'a': {'b': {'c': {'d': {'e': 'f'}}}}}"
   ]
  },
  {
   "cell_type": "code",
   "execution_count": 59,
   "metadata": {},
   "outputs": [
    {
     "name": "stdout",
     "output_type": "stream",
     "text": [
      "{'a': {'b': {'c': {'d': {'e': 'f'}}}}}\n"
     ]
    }
   ],
   "source": [
    "my_list = ['a', 'b', 'c', 'd', 'e', 'f']\n",
    "last_ind = len(my_list)-1 #находим индекс последнего элемента списка, с него будем начинать\n",
    "\n",
    "my_dict = {} #это будет искомый словарь\n",
    "my_dict2 = {} #это вспомогательный словарь (не получилось почему-то без него сделать, сразу в искомый добавлять значения)\n",
    "my_dict[my_list[last_ind-1]] = my_list[last_ind] #заводим последний символ сразу в искомый словарь\n",
    "\n",
    "for i in range(last_ind-1,0,-1):  #дальше перебираем все элементы списка с предпоследнего до первого\n",
    "    my_dict2[my_list[i-1]] = my_dict #добавляем элемент во вспомогательный словарь\n",
    "    my_dict = my_dict2               #обновляем искомый словарь\n",
    "    my_dict2 = {}                    #вспомогательный словарь обнуляем\n",
    "    \n",
    "print(my_dict)\n"
   ]
  },
  {
   "cell_type": "code",
   "execution_count": 60,
   "metadata": {},
   "outputs": [
    {
     "name": "stdout",
     "output_type": "stream",
     "text": [
      "{'2018-01-01': {'yandex': {'cpc': 100}}}\n"
     ]
    }
   ],
   "source": [
    "my_list = ['2018-01-01', 'yandex', 'cpc', 100]\n",
    "last_ind = len(my_list)-1 #находим индекс последнего элемента списка, с него будем начинать\n",
    "\n",
    "my_dict = {} #это будет искомый словарь\n",
    "my_dict2 = {} #это вспомогательный словарь (не получилось почему-то без него сделать, сразу в искомый добавлять значения)\n",
    "my_dict[my_list[last_ind-1]] = my_list[last_ind] #заводим последний символ сразу в искомый словарь\n",
    "\n",
    "for i in range(last_ind-1,0,-1):  #дальше перебираем все элементы списка с предпоследнего до первого\n",
    "    my_dict2[my_list[i-1]] = my_dict #добавляем элемент во вспомогательный словарь\n",
    "    my_dict = my_dict2               #обновляем искомый словарь\n",
    "    my_dict2 = {}                    #вспомогательный словарь обнуляем\n",
    "    \n",
    "print(my_dict)\n"
   ]
  },
  {
   "cell_type": "markdown",
   "metadata": {},
   "source": [
    "Задание 6 (необязательно)\n",
    "Дана книга рецептов с информацией о том, сколько ингредиентов нужно для приготовления блюда в расчете на одну порцию (пример данных представлен ниже).\n",
    "Напишите программу, которая будет запрашивать у пользователя количество порций для приготовления этих блюд и отображать информацию о суммарном количестве требуемых ингредиентов в указанном виде.\n",
    "Внимание! Одинаковые ингридиенты с разными размерностями нужно считать раздельно!"
   ]
  },
  {
   "cell_type": "code",
   "execution_count": 3,
   "metadata": {},
   "outputs": [
    {
     "name": "stdout",
     "output_type": "stream",
     "text": [
      "Введите количество порций:2\n",
      "Список ингредиентов на 2 порции:\n",
      "Сыр: 100 гр\n",
      "Томаты: 80 гр\n",
      "Огурцы: 40 гр\n",
      "Маслины: 20 гр\n",
      "Оливковое масло: 40 мл\n",
      "Салат: 20 гр\n",
      "Перец: 40 гр\n",
      "Сыр: 40 шт\n",
      "Колбаса: 60 гр\n",
      "Бекон: 60 гр\n",
      "Оливки: 20 гр\n",
      "Тесто: 200 гр\n",
      "Лимон: 2 шт\n",
      "Вода: 400 мл\n",
      "Сахар: 20 гр\n",
      "Лайм: 40 гр\n"
     ]
    }
   ],
   "source": [
    "# ВАРИАНТ 1\n",
    "\n",
    "cook_book = {\n",
    "  'салат': [\n",
    "     {'ingridient_name': 'сыр', 'quantity': 50, 'measure': 'гр'},\n",
    "     {'ingridient_name': 'томаты', 'quantity': 20, 'measure': 'гр'},\n",
    "     {'ingridient_name': 'огурцы', 'quantity': 20, 'measure': 'гр'},\n",
    "     {'ingridient_name': 'маслины', 'quantity': 10, 'measure': 'гр'},\n",
    "     {'ingridient_name': 'оливковое масло', 'quantity': 20, 'measure': 'мл'},\n",
    "     {'ingridient_name': 'салат', 'quantity': 10, 'measure': 'гр'},\n",
    "     {'ingridient_name': 'перец', 'quantity': 20, 'measure': 'гр'}\n",
    "    ],\n",
    "  'пицца': [\n",
    "     {'ingridient_name': 'сыр', 'quantity': 20, 'measure': 'шт'},  #поменяла тут размерность для проверки\n",
    "     {'ingridient_name': 'колбаса', 'quantity': 30, 'measure': 'гр'},\n",
    "     {'ingridient_name': 'бекон', 'quantity': 30, 'measure': 'гр'},\n",
    "     {'ingridient_name': 'оливки', 'quantity': 10, 'measure': 'гр'},\n",
    "     {'ingridient_name': 'томаты', 'quantity': 20, 'measure': 'гр'},\n",
    "     {'ingridient_name': 'тесто', 'quantity': 100, 'measure': 'гр'},   \n",
    "    ],\n",
    "  'лимонад': [\n",
    "     {'ingridient_name': 'лимон', 'quantity': 1, 'measure': 'шт'},\n",
    "     {'ingridient_name': 'вода', 'quantity': 200, 'measure': 'мл'},\n",
    "     {'ingridient_name': 'сахар', 'quantity': 10, 'measure': 'гр'},\n",
    "     {'ingridient_name': 'лайм', 'quantity': 20, 'measure': 'гр'},    \n",
    "    ]\n",
    "}\n",
    "\n",
    "persons = int(input('Введите количество порций:'))\n",
    "new_dict = {}                           #создаем новый словарь\n",
    "\n",
    "for item in cook_book.values():\n",
    "    for line in item:\n",
    "        meal, weight, gr = line.values() #разбираем рецепт по-строчно, так как название блюда не нужно, то берем только values\n",
    "        new_key = (meal, gr)             #новый ключ - это название ингредиента и его размерность, чтобы считать отдельно\n",
    "        if new_key not in new_dict.keys():      \n",
    "            new_dict[meal, gr] = weight       #добавляем элемент в новый словарь\n",
    "        else:\n",
    "            new_dict[meal, gr] += weight      #если элемент уже есть в словаре, то увеличиваем количество\n",
    "\n",
    "#print(new_dict)  \n",
    "print(f'Список ингредиентов на {persons} порции:')\n",
    "for line in new_dict.items():\n",
    "    meal, gr = line[0]\n",
    "    weight = line[1]\n",
    "    weight = weight * persons\n",
    "    print(f'{meal.capitalize()}: {weight} {gr}')"
   ]
  },
  {
   "cell_type": "code",
   "execution_count": 13,
   "metadata": {},
   "outputs": [
    {
     "name": "stdout",
     "output_type": "stream",
     "text": [
      "Введите количество порций:3\n",
      "Список ингредиентов на 3 порции:\n",
      "Сыр: 150 гр\n",
      "Томаты: 120 гр\n",
      "Огурцы: 60 гр\n",
      "Маслины: 30 гр\n",
      "Оливковое масло: 60 мл\n",
      "Салат: 30 гр\n",
      "Перец: 60 гр\n",
      "Сыр: 60 шт\n",
      "Колбаса: 90 гр\n",
      "Бекон: 90 гр\n",
      "Оливки: 30 гр\n",
      "Тесто: 300 гр\n",
      "Лимон: 3 шт\n",
      "Вода: 600 мл\n",
      "Сахар: 30 гр\n",
      "Лайм: 60 гр\n"
     ]
    }
   ],
   "source": [
    "# ВАРИАНТ 2 через setdefault\n",
    "\n",
    "cook_book = {\n",
    "  'салат': [\n",
    "     {'ingridient_name': 'сыр', 'quantity': 50, 'measure': 'гр'},\n",
    "     {'ingridient_name': 'томаты', 'quantity': 20, 'measure': 'гр'},\n",
    "     {'ingridient_name': 'огурцы', 'quantity': 20, 'measure': 'гр'},\n",
    "     {'ingridient_name': 'маслины', 'quantity': 10, 'measure': 'гр'},\n",
    "     {'ingridient_name': 'оливковое масло', 'quantity': 20, 'measure': 'мл'},\n",
    "     {'ingridient_name': 'салат', 'quantity': 10, 'measure': 'гр'},\n",
    "     {'ingridient_name': 'перец', 'quantity': 20, 'measure': 'гр'}\n",
    "    ],\n",
    "  'пицца': [\n",
    "     {'ingridient_name': 'сыр', 'quantity': 20, 'measure': 'шт'},  #поменяла тут размерность для проверки\n",
    "     {'ingridient_name': 'колбаса', 'quantity': 30, 'measure': 'гр'},\n",
    "     {'ingridient_name': 'бекон', 'quantity': 30, 'measure': 'гр'},\n",
    "     {'ingridient_name': 'оливки', 'quantity': 10, 'measure': 'гр'},\n",
    "     {'ingridient_name': 'томаты', 'quantity': 20, 'measure': 'гр'},\n",
    "     {'ingridient_name': 'тесто', 'quantity': 100, 'measure': 'гр'},   \n",
    "    ],\n",
    "  'лимонад': [\n",
    "     {'ingridient_name': 'лимон', 'quantity': 1, 'measure': 'шт'},\n",
    "     {'ingridient_name': 'вода', 'quantity': 200, 'measure': 'мл'},\n",
    "     {'ingridient_name': 'сахар', 'quantity': 10, 'measure': 'гр'},\n",
    "     {'ingridient_name': 'лайм', 'quantity': 20, 'measure': 'гр'},    \n",
    "    ]\n",
    "}\n",
    "\n",
    "persons = int(input('Введите количество порций:'))\n",
    "new_dict = {}                           #создаем новый словарь\n",
    "\n",
    "for item in cook_book.values():\n",
    "    for line in item:\n",
    "        meal, weight, gr = line.values() #разбираем рецепт по-строчно, так как название блюда не нужно, то берем только values\n",
    "        new_key = (meal, gr)             #новый ключ - это название ингредиента и его размерность, чтобы считать отдельно\n",
    "        new_dict.setdefault((meal, gr), 0) #если ключа нет в словаре, то добавляем запись с пустым значением\n",
    "        new_dict[meal, gr] += weight       #если ключ есть, то увеличиваем количество\n",
    "    \n",
    "print(f'Список ингредиентов на {persons} порции:')\n",
    "for line in new_dict.items():\n",
    "    meal, gr = line[0]\n",
    "    weight = line[1]\n",
    "    weight = weight * persons\n",
    "    print(f'{meal.capitalize()}: {weight} {gr}')"
   ]
  },
  {
   "cell_type": "code",
   "execution_count": null,
   "metadata": {},
   "outputs": [],
   "source": []
  }
 ],
 "metadata": {
  "kernelspec": {
   "display_name": "Python 3",
   "language": "python",
   "name": "python3"
  },
  "language_info": {
   "codemirror_mode": {
    "name": "ipython",
    "version": 3
   },
   "file_extension": ".py",
   "mimetype": "text/x-python",
   "name": "python",
   "nbconvert_exporter": "python",
   "pygments_lexer": "ipython3",
   "version": "3.8.3"
  }
 },
 "nbformat": 4,
 "nbformat_minor": 4
}
